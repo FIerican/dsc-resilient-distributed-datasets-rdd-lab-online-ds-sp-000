{
  "nbformat": 4,
  "nbformat_minor": 0,
  "metadata": {
    "kernelspec": {
      "display_name": "Python 3",
      "language": "python",
      "name": "python3"
    },
    "language_info": {
      "codemirror_mode": {
        "name": "ipython",
        "version": 3
      },
      "file_extension": ".py",
      "mimetype": "text/x-python",
      "name": "python",
      "nbconvert_exporter": "python",
      "pygments_lexer": "ipython3",
      "version": "3.7.3"
    },
    "colab": {
      "name": "index.ipynb",
      "provenance": []
    }
  },
  "cells": [
    {
      "cell_type": "markdown",
      "metadata": {
        "id": "UzWuXTUiSyTb"
      },
      "source": [
        "## Resilient Distributed Datasets (RDDs) - Lab\n",
        "\n",
        "Resilient Distributed Datasets (RDD) are fundamental data structures of Spark. An RDD is essentially the Spark representation of a set of data, spread across multiple machines, with APIs to let you act on it. An RDD can come from any data source, e.g. text files, a database, a JSON file, etc.\n",
        "\n",
        "\n",
        "## Objectives\n",
        "\n",
        "You will be able to:\n",
        "\n",
        "- Apply the map(func) transformation to a given function on all elements of an RDD in different partitions \n",
        "- Apply a map transformation for all elements of an RDD \n",
        "- Compare the difference between a transformation and an action within RDDs \n",
        "- Use collect(), count(), and take() actions to trigger spark transformations  \n",
        "- Use filter to select data that meets certain specifications within an RDD \n",
        "- Set number of partitions for parallelizing RDDs \n",
        "- Create RDDs from Python collections \n"
      ]
    },
    {
      "cell_type": "markdown",
      "metadata": {
        "id": "Zerg_FhRSyTb"
      },
      "source": [
        "## What are RDDs? \n",
        "\n",
        "To get a better understanding of RDDs, let's break down each one of the components of the acronym RDD:\n",
        "\n",
        "Resilient: RDDs are considered \"resilient\" because they have built-in fault tolerance. This means that even if one of the nodes goes offline, RDDs will be able to restore the data. This is already a huge advantage compared to standard storage. If a standard computer dies while performing an operation, all of its memory will be lost in the process. With RDDs, multiple nodes can go offline, and the action will still be held in working memory.\n",
        "\n",
        "Distributed: The data is contained on multiple nodes of a cluster-computing operation. It is efficiently partitioned to allow for parallelism.\n",
        "\n",
        "Dataset: The dataset has been * partitioned * across the multiple nodes. \n",
        "\n",
        "RDDs are the building block upon which more high-level Spark operations are based upon. Chances are, if you are performing an action using Spark, the operation involves RDDs. \n",
        "\n",
        "\n",
        "\n",
        "Key Characteristics of RDDs:\n",
        "\n",
        "- Immutable: Once an RDD is created, it cannot be modified. \n",
        "- Lazily Evaluated: RDDs will not be evaluated until an action is triggered. Essentially, when RDDs are created, they are programmed to perform some action, but that function will not get activated until it is explicitly called. The reason for lazy evaluation is that allows users to organize the actions of their Spark program into smaller actions. It also saves unnecessary computation and memory load.\n",
        "- In-Memory: The operations in Spark are performed in-memory rather than in the database. This is what allows Spark to perform fast operations with very large quantities of data.\n",
        "\n",
        "\n"
      ]
    },
    {
      "cell_type": "markdown",
      "metadata": {
        "id": "WudQU_jVSyTb"
      },
      "source": [
        "### RDD Transformations vs Actions\n",
        "\n",
        "In Spark, we first create a __base RDD__ and then apply one or more transformations to that base RDD following our processing needs. Being immutable means, **once an RDD is created, it cannot be changed**. As a result, **each transformation of an RDD creates a new RDD**. Finally, we can apply one or more **actions** to the RDDs. Spark uses lazy evaluation, so transformations are not actually executed until an action occurs.\n",
        "\n",
        "\n",
        "<img src=\"./images/rdd_diagram.png\" width=500>"
      ]
    },
    {
      "cell_type": "markdown",
      "metadata": {
        "id": "pGvacfpuSyTb"
      },
      "source": [
        "### Transformations\n",
        "\n",
        "Transformations create a new dataset from an existing one by passing each dataset element through a function and returning a new RDD representing the results. In short, creating an RDD from an existing RDD is ‘transformation’.\n",
        "All transformations in Spark are lazy. They do not compute their results right away. Instead, they just remember the transformations applied to some base dataset (e.g. a file). The transformations are only computed when an action requires a result that needs to be returned to the driver program.\n",
        "A transformation is an RDD that returns another RDD, like map, flatMap, filter, reduceByKey, join, cogroup, etc.\n",
        "\n",
        "### Actions\n",
        "Actions return final results of RDD computations. Actions trigger execution using lineage graph to load the data into original RDD and carry out all intermediate transformations and return the final results to the driver program or writes it out to the file system. An action returns a value (to a Spark driver - the user program).\n",
        "\n",
        "Here are some key transformations and actions that we will explore.\n",
        "\n",
        "\n",
        "| Transformations   | Actions       |\n",
        "|-------------------|---------------|\n",
        "| map(func)         | reduce(func)  |\n",
        "| filter(func)      | collect()     |\n",
        "| groupByKey()      | count()       |\n",
        "| reduceByKey(func) | first()       |\n",
        "| mapValues(func)   | take()        |\n",
        "| sample()          | countByKey()  |\n",
        "| distinct()        | foreach(func) |\n",
        "| sortByKey()       |               |\n"
      ]
    },
    {
      "cell_type": "markdown",
      "metadata": {
        "id": "773k1gzuSyTb"
      },
      "source": [
        "Let's see how transformations and actions work through a simple example. In this example, we will perform several actions and transformations on RDDs in order to obtain a better understanding of Spark processing. \n",
        "\n",
        "### Create a Python collection \n",
        "\n",
        "We need some data to start experimenting with RDDs. Let's create some sample data and see how RDDs handle it. To practice working with RDDs, we're going to use a simple Python list.\n",
        "\n",
        "- Create a Python list `data` of integers between 1 and 1000 using the `range()` function. \n",
        "- Sanity check: confirm the length of the list (it should be 1000)"
      ]
    },
    {
      "cell_type": "code",
      "metadata": {
        "colab": {
          "base_uri": "https://localhost:8080/"
        },
        "id": "bWnPQruGSyTb",
        "outputId": "97786c78-c1bb-4734-f6c5-415f6907905c"
      },
      "source": [
        "data = list(range(1,1001))\n",
        "len(data)\n",
        "\n",
        "# 1000"
      ],
      "execution_count": 3,
      "outputs": [
        {
          "output_type": "execute_result",
          "data": {
            "text/plain": [
              "1000"
            ]
          },
          "metadata": {
            "tags": []
          },
          "execution_count": 3
        }
      ]
    },
    {
      "cell_type": "markdown",
      "metadata": {
        "id": "1H9qDNAYSyTc"
      },
      "source": [
        "### Initialize an RDD\n",
        "\n",
        "When using Spark to make computations, datasets are treated as lists of entries. Those lists are split into different partitions across different cores or different computers. Each list of data held in memory is a partition of the RDD. The reason why Spark is able to make computations far faster than other big data processing languages is that it allows all data to be stored __in-memory__, which allows for easy access to the data and, in turn, high-speed processing. Here is an example of how the alphabet might be split into different RDDs and held across a distributed collection of nodes:\n",
        "\n",
        "<img src =\"./images/partitions_1.png\" width =\"500\">  \n",
        "To initialize an RDD, first import `pyspark` and then create a SparkContext assigned to the variable `sc`. Use `'local[*]'` as the master."
      ]
    },
    {
      "cell_type": "code",
      "metadata": {
        "id": "sn6nKec6nmcA"
      },
      "source": [
        "!apt-get install openjdk-8-jdk-headless -qq > /dev/null\n",
        "!wget -q https://downloads.apache.org/spark/spark-2.4.7/spark-2.4.7-bin-hadoop2.7.tgz\n",
        "!tar xf spark-2.4.7-bin-hadoop2.7.tgz\n",
        "!pip install -q findspark"
      ],
      "execution_count": 8,
      "outputs": []
    },
    {
      "cell_type": "code",
      "metadata": {
        "id": "643dYplsngIt"
      },
      "source": [
        "import findspark\n",
        "findspark.init()"
      ],
      "execution_count": 9,
      "outputs": []
    },
    {
      "cell_type": "code",
      "metadata": {
        "id": "PZg2xBUKndb-"
      },
      "source": [
        "import os\n",
        "os.environ[\"JAVA_HOME\"] = \"/usr/lib/jvm/java-8-openjdk-amd64\"\n",
        "os.environ[\"SPARK_HOME\"] = \"/content/spark-2.4.7-bin-hadoop2.7\""
      ],
      "execution_count": 10,
      "outputs": []
    },
    {
      "cell_type": "code",
      "metadata": {
        "id": "lRv_vI87SyTc"
      },
      "source": [
        "import pyspark\n",
        "sc = pyspark.SparkContext('local[*]')"
      ],
      "execution_count": 11,
      "outputs": []
    },
    {
      "cell_type": "markdown",
      "metadata": {
        "id": "Ovm1ICxWSyTc"
      },
      "source": [
        "Once you've created the SparkContext, you can use the `.parallelize()` method to create an RDD that will distribute the list of numbers across multiple cores. Here, create one called `rdd` with 10 partitions using `data` as the collection you are parallelizing."
      ]
    },
    {
      "cell_type": "code",
      "metadata": {
        "colab": {
          "base_uri": "https://localhost:8080/"
        },
        "id": "IWN_xn5ISyTc",
        "outputId": "f55d5bc7-bb9f-4ad4-b77c-497e8e2340ea"
      },
      "source": [
        "rdd = sc.parallelize(data, numSlices=10)\n",
        "print(type(rdd))\n",
        "# <class 'pyspark.rdd.RDD'>"
      ],
      "execution_count": 13,
      "outputs": [
        {
          "output_type": "stream",
          "text": [
            "<class 'pyspark.rdd.RDD'>\n"
          ],
          "name": "stdout"
        }
      ]
    },
    {
      "cell_type": "markdown",
      "metadata": {
        "id": "AU_qd_N9SyTc"
      },
      "source": [
        "Determine how many partitions are being used with this RDD with the `.getNumPartitions()` method."
      ]
    },
    {
      "cell_type": "code",
      "metadata": {
        "colab": {
          "base_uri": "https://localhost:8080/"
        },
        "id": "PlSLyhJYSyTc",
        "outputId": "63c6e213-64c3-48b5-9972-32b3ecd3033e"
      },
      "source": [
        "rdd.getNumPartitions()\n",
        "# 10"
      ],
      "execution_count": 14,
      "outputs": [
        {
          "output_type": "execute_result",
          "data": {
            "text/plain": [
              "10"
            ]
          },
          "metadata": {
            "tags": []
          },
          "execution_count": 14
        }
      ]
    },
    {
      "cell_type": "markdown",
      "metadata": {
        "id": "Y8A6DpViSyTc"
      },
      "source": [
        "### Basic descriptive RDD actions\n",
        "\n",
        "Let's perform some basic operations on our RDD. In the cell below, use the methods:\n",
        "* `count`: returns the total count of items in the RDD \n",
        "* `first`: returns the first item in the RDD\n",
        "* `take`: returns the first `n` items in the RDD\n",
        "* `top`: returns the top `n` items\n",
        "* `collect`: returns everything from your RDD\n",
        "\n",
        "\n",
        "It's important to note that in a big data context, calling the collect method will often take a very long time to execute and should be handled with care!"
      ]
    },
    {
      "cell_type": "code",
      "metadata": {
        "scrolled": true,
        "colab": {
          "base_uri": "https://localhost:8080/"
        },
        "id": "3Byx7QkhSyTc",
        "outputId": "945b829a-2a78-471d-f791-53be7d834112"
      },
      "source": [
        "# count\n",
        "rdd.count()"
      ],
      "execution_count": 16,
      "outputs": [
        {
          "output_type": "execute_result",
          "data": {
            "text/plain": [
              "1000"
            ]
          },
          "metadata": {
            "tags": []
          },
          "execution_count": 16
        }
      ]
    },
    {
      "cell_type": "code",
      "metadata": {
        "colab": {
          "base_uri": "https://localhost:8080/"
        },
        "id": "p2JRecEDSyTc",
        "outputId": "edf634f8-86a7-4bbf-b87f-d284e1f727a3"
      },
      "source": [
        "# first\n",
        "rdd.first()"
      ],
      "execution_count": 17,
      "outputs": [
        {
          "output_type": "execute_result",
          "data": {
            "text/plain": [
              "1"
            ]
          },
          "metadata": {
            "tags": []
          },
          "execution_count": 17
        }
      ]
    },
    {
      "cell_type": "code",
      "metadata": {
        "colab": {
          "base_uri": "https://localhost:8080/"
        },
        "id": "7QKyGV_5SyTc",
        "outputId": "cf6e8e01-91ae-472d-bb14-9d84b9a12c3e"
      },
      "source": [
        "# take\n",
        "rdd.take(5)"
      ],
      "execution_count": 19,
      "outputs": [
        {
          "output_type": "execute_result",
          "data": {
            "text/plain": [
              "[1, 2, 3, 4, 5]"
            ]
          },
          "metadata": {
            "tags": []
          },
          "execution_count": 19
        }
      ]
    },
    {
      "cell_type": "code",
      "metadata": {
        "colab": {
          "base_uri": "https://localhost:8080/"
        },
        "id": "Y7GSfaYFSyTc",
        "outputId": "7e5fd0b4-8c21-4d37-f229-a975648454dd"
      },
      "source": [
        "# top\n",
        "rdd.top(10)"
      ],
      "execution_count": 20,
      "outputs": [
        {
          "output_type": "execute_result",
          "data": {
            "text/plain": [
              "[1000, 999, 998, 997, 996, 995, 994, 993, 992, 991]"
            ]
          },
          "metadata": {
            "tags": []
          },
          "execution_count": 20
        }
      ]
    },
    {
      "cell_type": "code",
      "metadata": {
        "scrolled": true,
        "colab": {
          "base_uri": "https://localhost:8080/"
        },
        "id": "A6iZ3qymSyTc",
        "outputId": "121f2a75-5f3c-426b-a6b5-806d2b6f2662"
      },
      "source": [
        "# collect\n",
        "rdd.collect()"
      ],
      "execution_count": 22,
      "outputs": [
        {
          "output_type": "execute_result",
          "data": {
            "text/plain": [
              "[1,\n",
              " 2,\n",
              " 3,\n",
              " 4,\n",
              " 5,\n",
              " 6,\n",
              " 7,\n",
              " 8,\n",
              " 9,\n",
              " 10,\n",
              " 11,\n",
              " 12,\n",
              " 13,\n",
              " 14,\n",
              " 15,\n",
              " 16,\n",
              " 17,\n",
              " 18,\n",
              " 19,\n",
              " 20,\n",
              " 21,\n",
              " 22,\n",
              " 23,\n",
              " 24,\n",
              " 25,\n",
              " 26,\n",
              " 27,\n",
              " 28,\n",
              " 29,\n",
              " 30,\n",
              " 31,\n",
              " 32,\n",
              " 33,\n",
              " 34,\n",
              " 35,\n",
              " 36,\n",
              " 37,\n",
              " 38,\n",
              " 39,\n",
              " 40,\n",
              " 41,\n",
              " 42,\n",
              " 43,\n",
              " 44,\n",
              " 45,\n",
              " 46,\n",
              " 47,\n",
              " 48,\n",
              " 49,\n",
              " 50,\n",
              " 51,\n",
              " 52,\n",
              " 53,\n",
              " 54,\n",
              " 55,\n",
              " 56,\n",
              " 57,\n",
              " 58,\n",
              " 59,\n",
              " 60,\n",
              " 61,\n",
              " 62,\n",
              " 63,\n",
              " 64,\n",
              " 65,\n",
              " 66,\n",
              " 67,\n",
              " 68,\n",
              " 69,\n",
              " 70,\n",
              " 71,\n",
              " 72,\n",
              " 73,\n",
              " 74,\n",
              " 75,\n",
              " 76,\n",
              " 77,\n",
              " 78,\n",
              " 79,\n",
              " 80,\n",
              " 81,\n",
              " 82,\n",
              " 83,\n",
              " 84,\n",
              " 85,\n",
              " 86,\n",
              " 87,\n",
              " 88,\n",
              " 89,\n",
              " 90,\n",
              " 91,\n",
              " 92,\n",
              " 93,\n",
              " 94,\n",
              " 95,\n",
              " 96,\n",
              " 97,\n",
              " 98,\n",
              " 99,\n",
              " 100,\n",
              " 101,\n",
              " 102,\n",
              " 103,\n",
              " 104,\n",
              " 105,\n",
              " 106,\n",
              " 107,\n",
              " 108,\n",
              " 109,\n",
              " 110,\n",
              " 111,\n",
              " 112,\n",
              " 113,\n",
              " 114,\n",
              " 115,\n",
              " 116,\n",
              " 117,\n",
              " 118,\n",
              " 119,\n",
              " 120,\n",
              " 121,\n",
              " 122,\n",
              " 123,\n",
              " 124,\n",
              " 125,\n",
              " 126,\n",
              " 127,\n",
              " 128,\n",
              " 129,\n",
              " 130,\n",
              " 131,\n",
              " 132,\n",
              " 133,\n",
              " 134,\n",
              " 135,\n",
              " 136,\n",
              " 137,\n",
              " 138,\n",
              " 139,\n",
              " 140,\n",
              " 141,\n",
              " 142,\n",
              " 143,\n",
              " 144,\n",
              " 145,\n",
              " 146,\n",
              " 147,\n",
              " 148,\n",
              " 149,\n",
              " 150,\n",
              " 151,\n",
              " 152,\n",
              " 153,\n",
              " 154,\n",
              " 155,\n",
              " 156,\n",
              " 157,\n",
              " 158,\n",
              " 159,\n",
              " 160,\n",
              " 161,\n",
              " 162,\n",
              " 163,\n",
              " 164,\n",
              " 165,\n",
              " 166,\n",
              " 167,\n",
              " 168,\n",
              " 169,\n",
              " 170,\n",
              " 171,\n",
              " 172,\n",
              " 173,\n",
              " 174,\n",
              " 175,\n",
              " 176,\n",
              " 177,\n",
              " 178,\n",
              " 179,\n",
              " 180,\n",
              " 181,\n",
              " 182,\n",
              " 183,\n",
              " 184,\n",
              " 185,\n",
              " 186,\n",
              " 187,\n",
              " 188,\n",
              " 189,\n",
              " 190,\n",
              " 191,\n",
              " 192,\n",
              " 193,\n",
              " 194,\n",
              " 195,\n",
              " 196,\n",
              " 197,\n",
              " 198,\n",
              " 199,\n",
              " 200,\n",
              " 201,\n",
              " 202,\n",
              " 203,\n",
              " 204,\n",
              " 205,\n",
              " 206,\n",
              " 207,\n",
              " 208,\n",
              " 209,\n",
              " 210,\n",
              " 211,\n",
              " 212,\n",
              " 213,\n",
              " 214,\n",
              " 215,\n",
              " 216,\n",
              " 217,\n",
              " 218,\n",
              " 219,\n",
              " 220,\n",
              " 221,\n",
              " 222,\n",
              " 223,\n",
              " 224,\n",
              " 225,\n",
              " 226,\n",
              " 227,\n",
              " 228,\n",
              " 229,\n",
              " 230,\n",
              " 231,\n",
              " 232,\n",
              " 233,\n",
              " 234,\n",
              " 235,\n",
              " 236,\n",
              " 237,\n",
              " 238,\n",
              " 239,\n",
              " 240,\n",
              " 241,\n",
              " 242,\n",
              " 243,\n",
              " 244,\n",
              " 245,\n",
              " 246,\n",
              " 247,\n",
              " 248,\n",
              " 249,\n",
              " 250,\n",
              " 251,\n",
              " 252,\n",
              " 253,\n",
              " 254,\n",
              " 255,\n",
              " 256,\n",
              " 257,\n",
              " 258,\n",
              " 259,\n",
              " 260,\n",
              " 261,\n",
              " 262,\n",
              " 263,\n",
              " 264,\n",
              " 265,\n",
              " 266,\n",
              " 267,\n",
              " 268,\n",
              " 269,\n",
              " 270,\n",
              " 271,\n",
              " 272,\n",
              " 273,\n",
              " 274,\n",
              " 275,\n",
              " 276,\n",
              " 277,\n",
              " 278,\n",
              " 279,\n",
              " 280,\n",
              " 281,\n",
              " 282,\n",
              " 283,\n",
              " 284,\n",
              " 285,\n",
              " 286,\n",
              " 287,\n",
              " 288,\n",
              " 289,\n",
              " 290,\n",
              " 291,\n",
              " 292,\n",
              " 293,\n",
              " 294,\n",
              " 295,\n",
              " 296,\n",
              " 297,\n",
              " 298,\n",
              " 299,\n",
              " 300,\n",
              " 301,\n",
              " 302,\n",
              " 303,\n",
              " 304,\n",
              " 305,\n",
              " 306,\n",
              " 307,\n",
              " 308,\n",
              " 309,\n",
              " 310,\n",
              " 311,\n",
              " 312,\n",
              " 313,\n",
              " 314,\n",
              " 315,\n",
              " 316,\n",
              " 317,\n",
              " 318,\n",
              " 319,\n",
              " 320,\n",
              " 321,\n",
              " 322,\n",
              " 323,\n",
              " 324,\n",
              " 325,\n",
              " 326,\n",
              " 327,\n",
              " 328,\n",
              " 329,\n",
              " 330,\n",
              " 331,\n",
              " 332,\n",
              " 333,\n",
              " 334,\n",
              " 335,\n",
              " 336,\n",
              " 337,\n",
              " 338,\n",
              " 339,\n",
              " 340,\n",
              " 341,\n",
              " 342,\n",
              " 343,\n",
              " 344,\n",
              " 345,\n",
              " 346,\n",
              " 347,\n",
              " 348,\n",
              " 349,\n",
              " 350,\n",
              " 351,\n",
              " 352,\n",
              " 353,\n",
              " 354,\n",
              " 355,\n",
              " 356,\n",
              " 357,\n",
              " 358,\n",
              " 359,\n",
              " 360,\n",
              " 361,\n",
              " 362,\n",
              " 363,\n",
              " 364,\n",
              " 365,\n",
              " 366,\n",
              " 367,\n",
              " 368,\n",
              " 369,\n",
              " 370,\n",
              " 371,\n",
              " 372,\n",
              " 373,\n",
              " 374,\n",
              " 375,\n",
              " 376,\n",
              " 377,\n",
              " 378,\n",
              " 379,\n",
              " 380,\n",
              " 381,\n",
              " 382,\n",
              " 383,\n",
              " 384,\n",
              " 385,\n",
              " 386,\n",
              " 387,\n",
              " 388,\n",
              " 389,\n",
              " 390,\n",
              " 391,\n",
              " 392,\n",
              " 393,\n",
              " 394,\n",
              " 395,\n",
              " 396,\n",
              " 397,\n",
              " 398,\n",
              " 399,\n",
              " 400,\n",
              " 401,\n",
              " 402,\n",
              " 403,\n",
              " 404,\n",
              " 405,\n",
              " 406,\n",
              " 407,\n",
              " 408,\n",
              " 409,\n",
              " 410,\n",
              " 411,\n",
              " 412,\n",
              " 413,\n",
              " 414,\n",
              " 415,\n",
              " 416,\n",
              " 417,\n",
              " 418,\n",
              " 419,\n",
              " 420,\n",
              " 421,\n",
              " 422,\n",
              " 423,\n",
              " 424,\n",
              " 425,\n",
              " 426,\n",
              " 427,\n",
              " 428,\n",
              " 429,\n",
              " 430,\n",
              " 431,\n",
              " 432,\n",
              " 433,\n",
              " 434,\n",
              " 435,\n",
              " 436,\n",
              " 437,\n",
              " 438,\n",
              " 439,\n",
              " 440,\n",
              " 441,\n",
              " 442,\n",
              " 443,\n",
              " 444,\n",
              " 445,\n",
              " 446,\n",
              " 447,\n",
              " 448,\n",
              " 449,\n",
              " 450,\n",
              " 451,\n",
              " 452,\n",
              " 453,\n",
              " 454,\n",
              " 455,\n",
              " 456,\n",
              " 457,\n",
              " 458,\n",
              " 459,\n",
              " 460,\n",
              " 461,\n",
              " 462,\n",
              " 463,\n",
              " 464,\n",
              " 465,\n",
              " 466,\n",
              " 467,\n",
              " 468,\n",
              " 469,\n",
              " 470,\n",
              " 471,\n",
              " 472,\n",
              " 473,\n",
              " 474,\n",
              " 475,\n",
              " 476,\n",
              " 477,\n",
              " 478,\n",
              " 479,\n",
              " 480,\n",
              " 481,\n",
              " 482,\n",
              " 483,\n",
              " 484,\n",
              " 485,\n",
              " 486,\n",
              " 487,\n",
              " 488,\n",
              " 489,\n",
              " 490,\n",
              " 491,\n",
              " 492,\n",
              " 493,\n",
              " 494,\n",
              " 495,\n",
              " 496,\n",
              " 497,\n",
              " 498,\n",
              " 499,\n",
              " 500,\n",
              " 501,\n",
              " 502,\n",
              " 503,\n",
              " 504,\n",
              " 505,\n",
              " 506,\n",
              " 507,\n",
              " 508,\n",
              " 509,\n",
              " 510,\n",
              " 511,\n",
              " 512,\n",
              " 513,\n",
              " 514,\n",
              " 515,\n",
              " 516,\n",
              " 517,\n",
              " 518,\n",
              " 519,\n",
              " 520,\n",
              " 521,\n",
              " 522,\n",
              " 523,\n",
              " 524,\n",
              " 525,\n",
              " 526,\n",
              " 527,\n",
              " 528,\n",
              " 529,\n",
              " 530,\n",
              " 531,\n",
              " 532,\n",
              " 533,\n",
              " 534,\n",
              " 535,\n",
              " 536,\n",
              " 537,\n",
              " 538,\n",
              " 539,\n",
              " 540,\n",
              " 541,\n",
              " 542,\n",
              " 543,\n",
              " 544,\n",
              " 545,\n",
              " 546,\n",
              " 547,\n",
              " 548,\n",
              " 549,\n",
              " 550,\n",
              " 551,\n",
              " 552,\n",
              " 553,\n",
              " 554,\n",
              " 555,\n",
              " 556,\n",
              " 557,\n",
              " 558,\n",
              " 559,\n",
              " 560,\n",
              " 561,\n",
              " 562,\n",
              " 563,\n",
              " 564,\n",
              " 565,\n",
              " 566,\n",
              " 567,\n",
              " 568,\n",
              " 569,\n",
              " 570,\n",
              " 571,\n",
              " 572,\n",
              " 573,\n",
              " 574,\n",
              " 575,\n",
              " 576,\n",
              " 577,\n",
              " 578,\n",
              " 579,\n",
              " 580,\n",
              " 581,\n",
              " 582,\n",
              " 583,\n",
              " 584,\n",
              " 585,\n",
              " 586,\n",
              " 587,\n",
              " 588,\n",
              " 589,\n",
              " 590,\n",
              " 591,\n",
              " 592,\n",
              " 593,\n",
              " 594,\n",
              " 595,\n",
              " 596,\n",
              " 597,\n",
              " 598,\n",
              " 599,\n",
              " 600,\n",
              " 601,\n",
              " 602,\n",
              " 603,\n",
              " 604,\n",
              " 605,\n",
              " 606,\n",
              " 607,\n",
              " 608,\n",
              " 609,\n",
              " 610,\n",
              " 611,\n",
              " 612,\n",
              " 613,\n",
              " 614,\n",
              " 615,\n",
              " 616,\n",
              " 617,\n",
              " 618,\n",
              " 619,\n",
              " 620,\n",
              " 621,\n",
              " 622,\n",
              " 623,\n",
              " 624,\n",
              " 625,\n",
              " 626,\n",
              " 627,\n",
              " 628,\n",
              " 629,\n",
              " 630,\n",
              " 631,\n",
              " 632,\n",
              " 633,\n",
              " 634,\n",
              " 635,\n",
              " 636,\n",
              " 637,\n",
              " 638,\n",
              " 639,\n",
              " 640,\n",
              " 641,\n",
              " 642,\n",
              " 643,\n",
              " 644,\n",
              " 645,\n",
              " 646,\n",
              " 647,\n",
              " 648,\n",
              " 649,\n",
              " 650,\n",
              " 651,\n",
              " 652,\n",
              " 653,\n",
              " 654,\n",
              " 655,\n",
              " 656,\n",
              " 657,\n",
              " 658,\n",
              " 659,\n",
              " 660,\n",
              " 661,\n",
              " 662,\n",
              " 663,\n",
              " 664,\n",
              " 665,\n",
              " 666,\n",
              " 667,\n",
              " 668,\n",
              " 669,\n",
              " 670,\n",
              " 671,\n",
              " 672,\n",
              " 673,\n",
              " 674,\n",
              " 675,\n",
              " 676,\n",
              " 677,\n",
              " 678,\n",
              " 679,\n",
              " 680,\n",
              " 681,\n",
              " 682,\n",
              " 683,\n",
              " 684,\n",
              " 685,\n",
              " 686,\n",
              " 687,\n",
              " 688,\n",
              " 689,\n",
              " 690,\n",
              " 691,\n",
              " 692,\n",
              " 693,\n",
              " 694,\n",
              " 695,\n",
              " 696,\n",
              " 697,\n",
              " 698,\n",
              " 699,\n",
              " 700,\n",
              " 701,\n",
              " 702,\n",
              " 703,\n",
              " 704,\n",
              " 705,\n",
              " 706,\n",
              " 707,\n",
              " 708,\n",
              " 709,\n",
              " 710,\n",
              " 711,\n",
              " 712,\n",
              " 713,\n",
              " 714,\n",
              " 715,\n",
              " 716,\n",
              " 717,\n",
              " 718,\n",
              " 719,\n",
              " 720,\n",
              " 721,\n",
              " 722,\n",
              " 723,\n",
              " 724,\n",
              " 725,\n",
              " 726,\n",
              " 727,\n",
              " 728,\n",
              " 729,\n",
              " 730,\n",
              " 731,\n",
              " 732,\n",
              " 733,\n",
              " 734,\n",
              " 735,\n",
              " 736,\n",
              " 737,\n",
              " 738,\n",
              " 739,\n",
              " 740,\n",
              " 741,\n",
              " 742,\n",
              " 743,\n",
              " 744,\n",
              " 745,\n",
              " 746,\n",
              " 747,\n",
              " 748,\n",
              " 749,\n",
              " 750,\n",
              " 751,\n",
              " 752,\n",
              " 753,\n",
              " 754,\n",
              " 755,\n",
              " 756,\n",
              " 757,\n",
              " 758,\n",
              " 759,\n",
              " 760,\n",
              " 761,\n",
              " 762,\n",
              " 763,\n",
              " 764,\n",
              " 765,\n",
              " 766,\n",
              " 767,\n",
              " 768,\n",
              " 769,\n",
              " 770,\n",
              " 771,\n",
              " 772,\n",
              " 773,\n",
              " 774,\n",
              " 775,\n",
              " 776,\n",
              " 777,\n",
              " 778,\n",
              " 779,\n",
              " 780,\n",
              " 781,\n",
              " 782,\n",
              " 783,\n",
              " 784,\n",
              " 785,\n",
              " 786,\n",
              " 787,\n",
              " 788,\n",
              " 789,\n",
              " 790,\n",
              " 791,\n",
              " 792,\n",
              " 793,\n",
              " 794,\n",
              " 795,\n",
              " 796,\n",
              " 797,\n",
              " 798,\n",
              " 799,\n",
              " 800,\n",
              " 801,\n",
              " 802,\n",
              " 803,\n",
              " 804,\n",
              " 805,\n",
              " 806,\n",
              " 807,\n",
              " 808,\n",
              " 809,\n",
              " 810,\n",
              " 811,\n",
              " 812,\n",
              " 813,\n",
              " 814,\n",
              " 815,\n",
              " 816,\n",
              " 817,\n",
              " 818,\n",
              " 819,\n",
              " 820,\n",
              " 821,\n",
              " 822,\n",
              " 823,\n",
              " 824,\n",
              " 825,\n",
              " 826,\n",
              " 827,\n",
              " 828,\n",
              " 829,\n",
              " 830,\n",
              " 831,\n",
              " 832,\n",
              " 833,\n",
              " 834,\n",
              " 835,\n",
              " 836,\n",
              " 837,\n",
              " 838,\n",
              " 839,\n",
              " 840,\n",
              " 841,\n",
              " 842,\n",
              " 843,\n",
              " 844,\n",
              " 845,\n",
              " 846,\n",
              " 847,\n",
              " 848,\n",
              " 849,\n",
              " 850,\n",
              " 851,\n",
              " 852,\n",
              " 853,\n",
              " 854,\n",
              " 855,\n",
              " 856,\n",
              " 857,\n",
              " 858,\n",
              " 859,\n",
              " 860,\n",
              " 861,\n",
              " 862,\n",
              " 863,\n",
              " 864,\n",
              " 865,\n",
              " 866,\n",
              " 867,\n",
              " 868,\n",
              " 869,\n",
              " 870,\n",
              " 871,\n",
              " 872,\n",
              " 873,\n",
              " 874,\n",
              " 875,\n",
              " 876,\n",
              " 877,\n",
              " 878,\n",
              " 879,\n",
              " 880,\n",
              " 881,\n",
              " 882,\n",
              " 883,\n",
              " 884,\n",
              " 885,\n",
              " 886,\n",
              " 887,\n",
              " 888,\n",
              " 889,\n",
              " 890,\n",
              " 891,\n",
              " 892,\n",
              " 893,\n",
              " 894,\n",
              " 895,\n",
              " 896,\n",
              " 897,\n",
              " 898,\n",
              " 899,\n",
              " 900,\n",
              " 901,\n",
              " 902,\n",
              " 903,\n",
              " 904,\n",
              " 905,\n",
              " 906,\n",
              " 907,\n",
              " 908,\n",
              " 909,\n",
              " 910,\n",
              " 911,\n",
              " 912,\n",
              " 913,\n",
              " 914,\n",
              " 915,\n",
              " 916,\n",
              " 917,\n",
              " 918,\n",
              " 919,\n",
              " 920,\n",
              " 921,\n",
              " 922,\n",
              " 923,\n",
              " 924,\n",
              " 925,\n",
              " 926,\n",
              " 927,\n",
              " 928,\n",
              " 929,\n",
              " 930,\n",
              " 931,\n",
              " 932,\n",
              " 933,\n",
              " 934,\n",
              " 935,\n",
              " 936,\n",
              " 937,\n",
              " 938,\n",
              " 939,\n",
              " 940,\n",
              " 941,\n",
              " 942,\n",
              " 943,\n",
              " 944,\n",
              " 945,\n",
              " 946,\n",
              " 947,\n",
              " 948,\n",
              " 949,\n",
              " 950,\n",
              " 951,\n",
              " 952,\n",
              " 953,\n",
              " 954,\n",
              " 955,\n",
              " 956,\n",
              " 957,\n",
              " 958,\n",
              " 959,\n",
              " 960,\n",
              " 961,\n",
              " 962,\n",
              " 963,\n",
              " 964,\n",
              " 965,\n",
              " 966,\n",
              " 967,\n",
              " 968,\n",
              " 969,\n",
              " 970,\n",
              " 971,\n",
              " 972,\n",
              " 973,\n",
              " 974,\n",
              " 975,\n",
              " 976,\n",
              " 977,\n",
              " 978,\n",
              " 979,\n",
              " 980,\n",
              " 981,\n",
              " 982,\n",
              " 983,\n",
              " 984,\n",
              " 985,\n",
              " 986,\n",
              " 987,\n",
              " 988,\n",
              " 989,\n",
              " 990,\n",
              " 991,\n",
              " 992,\n",
              " 993,\n",
              " 994,\n",
              " 995,\n",
              " 996,\n",
              " 997,\n",
              " 998,\n",
              " 999,\n",
              " 1000]"
            ]
          },
          "metadata": {
            "tags": []
          },
          "execution_count": 22
        }
      ]
    },
    {
      "cell_type": "markdown",
      "metadata": {
        "id": "b93tA7tCSyTc"
      },
      "source": [
        "## Map functions\n",
        "\n",
        "Now that you've been working a little bit with RDDs, let's make this a little more interesting. Imagine you're running a hot new e-commerce startup called BuyStuff, and you're trying to track of how much it charges customers from each item sold. In the next cell, we're going to create simulated data by multiplying the values 1-1000 with a random number from 0-1."
      ]
    },
    {
      "cell_type": "code",
      "metadata": {
        "colab": {
          "base_uri": "https://localhost:8080/"
        },
        "id": "YnzQ6FpBSyTc",
        "outputId": "f49caac7-3ec7-4275-f300-bbe67b7e7e21"
      },
      "source": [
        "import random\n",
        "import numpy as np\n",
        "\n",
        "nums = np.array(range(1, 1001))\n",
        "sales_figures = nums * np.random.rand(1000)\n",
        "sales_figures"
      ],
      "execution_count": 25,
      "outputs": [
        {
          "output_type": "execute_result",
          "data": {
            "text/plain": [
              "array([9.09741662e-01, 1.07509074e+00, 7.90031105e-01, 1.21835675e+00,\n",
              "       2.69334029e+00, 3.31519203e-01, 8.63036611e-03, 2.07873620e+00,\n",
              "       8.84327969e+00, 9.38814695e+00, 3.52445325e-01, 8.29290105e+00,\n",
              "       1.04128177e+01, 1.07449647e+01, 1.22268506e+01, 1.74185028e+00,\n",
              "       4.54314298e-01, 1.44040414e+01, 4.24809453e+00, 1.39450322e+01,\n",
              "       3.46756019e+00, 1.75812153e+01, 4.62454702e+00, 2.11907851e+01,\n",
              "       4.39789466e+00, 3.81231212e-01, 4.03959288e+00, 9.35010406e+00,\n",
              "       7.68469404e-02, 1.22027252e+01, 9.86089088e+00, 2.92821238e+01,\n",
              "       2.87568661e+01, 2.87261858e+01, 3.12567619e+00, 3.39981914e+01,\n",
              "       3.27979547e+01, 7.17657260e-02, 2.62244192e+01, 3.02375403e-01,\n",
              "       1.24347289e+01, 9.51323979e+00, 7.25062043e+00, 4.22949558e+01,\n",
              "       1.84084259e+01, 2.15971301e+01, 1.29338533e+01, 2.78320076e+01,\n",
              "       4.86831985e+01, 2.70493983e+01, 3.30801913e+01, 1.69588100e+01,\n",
              "       2.80201054e+01, 5.38624307e+01, 4.72115424e+01, 2.32265442e+01,\n",
              "       4.86499488e+01, 4.33572258e+01, 2.59950741e+01, 4.55490093e+01,\n",
              "       3.02879303e+01, 4.84567732e+01, 9.44798781e+00, 5.37000488e+00,\n",
              "       1.06089640e+01, 4.36452862e+01, 5.66938383e+01, 6.61529391e+01,\n",
              "       3.81122621e+01, 5.76871875e+01, 3.61013178e+01, 7.34331189e+00,\n",
              "       4.75253672e+01, 3.23203974e+01, 5.98888626e+01, 2.94984213e+01,\n",
              "       7.51951031e+01, 2.08588139e+01, 1.79661012e+01, 1.61946139e+01,\n",
              "       3.54225844e+01, 3.51845186e+00, 4.77570960e+01, 6.86769895e+01,\n",
              "       7.69963383e+00, 4.73476709e+01, 6.05444025e+01, 4.63733912e+01,\n",
              "       4.86882602e+01, 5.33876561e+01, 5.06744707e+01, 6.54245308e+01,\n",
              "       4.63796146e+01, 6.22725779e+01, 8.20041050e+01, 6.98304800e+01,\n",
              "       8.22589966e+00, 2.11565561e+01, 3.32052566e+01, 2.47525159e+01,\n",
              "       1.90000102e+01, 2.54448667e+01, 5.38119979e+01, 7.94635542e+01,\n",
              "       3.58636234e+01, 6.09232855e+01, 9.13108532e+01, 8.57163075e+01,\n",
              "       1.92369773e+01, 5.72744129e+01, 4.86843089e+01, 1.01685149e+02,\n",
              "       7.09766489e+00, 1.09164776e+02, 8.40914329e+00, 4.67921593e+01,\n",
              "       9.44924889e+01, 1.43175693e+01, 9.40217631e+01, 2.42857624e+00,\n",
              "       1.77534386e+01, 8.48821008e+00, 1.02528230e+02, 8.54958594e+01,\n",
              "       2.85179212e+01, 9.89267658e+00, 9.93023506e+01, 5.88118492e+01,\n",
              "       5.72198272e+01, 1.00121802e+02, 8.80180334e+01, 1.19368495e+02,\n",
              "       7.67465896e+00, 2.80767047e-01, 1.09004368e+02, 7.39618146e+01,\n",
              "       5.54897635e+01, 1.35288121e+02, 1.11576864e+02, 7.88423259e+01,\n",
              "       1.01055040e+02, 1.31837978e+02, 1.17819017e+02, 4.42317121e+01,\n",
              "       3.05666395e+01, 6.06626741e+01, 1.58730847e+01, 1.64000870e+00,\n",
              "       4.77437361e+01, 3.35867650e+01, 9.56711667e+01, 3.45888908e+01,\n",
              "       1.48922404e+01, 7.85144097e+00, 1.02994946e+02, 1.33598056e+02,\n",
              "       9.97327260e+01, 8.46016569e+01, 2.74224787e+01, 1.21942838e+02,\n",
              "       2.90376338e+01, 1.23078066e+02, 1.53412849e+02, 1.29721739e+02,\n",
              "       1.09625543e+02, 4.42971935e+01, 1.25511634e+01, 1.06414558e+02,\n",
              "       1.54994174e+02, 3.30449615e+01, 1.39180617e+02, 4.17916552e+01,\n",
              "       1.20869350e+02, 1.21543077e+02, 1.08254432e+02, 9.12535573e+01,\n",
              "       1.56264302e+02, 1.00556859e+02, 1.05611756e+02, 5.55166025e+00,\n",
              "       9.00064655e-01, 1.48441353e+02, 9.45839240e+00, 6.47011265e+01,\n",
              "       1.18837970e+02, 7.63392008e+01, 3.29350521e+01, 8.55694067e+01,\n",
              "       1.42891333e+02, 7.44817012e+01, 1.78057990e+02, 4.52268774e+01,\n",
              "       3.27032968e+01, 5.63953678e+01, 4.95456466e+01, 5.58425706e+01,\n",
              "       2.28772324e+01, 2.00444198e+01, 1.97732559e+02, 2.62368142e+01,\n",
              "       1.26975732e+02, 1.78791651e+02, 8.30575118e+01, 2.67108125e+01,\n",
              "       1.07417632e+02, 8.04620247e+01, 2.97456253e+01, 1.60049472e+02,\n",
              "       1.06285058e+02, 1.25376399e+02, 3.29936236e+01, 3.80604057e+01,\n",
              "       9.12960970e+01, 1.82551674e+01, 7.19394182e+01, 1.31487100e+02,\n",
              "       9.49901438e+01, 1.87792210e+02, 1.80610584e+02, 1.86350888e+02,\n",
              "       1.71435604e+02, 1.60366318e+01, 6.90493380e+01, 2.16126349e+01,\n",
              "       7.75821212e+01, 9.97422984e+01, 1.95929503e+02, 9.47319910e+01,\n",
              "       1.76524380e+02, 1.41994234e+01, 1.43632106e+01, 1.22633232e+02,\n",
              "       1.71899214e+00, 1.03774696e+02, 4.34715577e+01, 1.63117063e+02,\n",
              "       2.34323557e+02, 2.36601743e+02, 2.36167697e+02, 6.70139786e+01,\n",
              "       9.01510400e+01, 1.53096846e+02, 2.08164311e+02, 1.31131312e+02,\n",
              "       1.31064132e+02, 1.24566148e+02, 2.17678811e+02, 1.39706615e+02,\n",
              "       1.11094059e+02, 1.88858759e+01, 1.58076592e+02, 8.03803241e+01,\n",
              "       2.36664650e+02, 1.31154051e+02, 7.45737374e+01, 1.51211566e+02,\n",
              "       2.33212580e+02, 1.86543201e+02, 2.00155840e+02, 1.67596894e+02,\n",
              "       4.65340053e+01, 1.88535235e+02, 8.91129672e+01, 6.69392927e+01,\n",
              "       2.31592679e+02, 9.80022659e+01, 1.57922563e+02, 1.25863077e+02,\n",
              "       1.09947471e+02, 1.12356927e+01, 2.75990379e+01, 1.08972116e+02,\n",
              "       1.43935683e+01, 2.71411229e+02, 2.15697742e+02, 9.40012518e+00,\n",
              "       2.47752240e+02, 1.01554171e+02, 1.40343911e+02, 2.68891944e+02,\n",
              "       2.80152330e+01, 9.94706645e+01, 1.26489359e+02, 1.28208811e+02,\n",
              "       4.38768553e+01, 1.49599833e+02, 5.33791429e+00, 2.13721935e+02,\n",
              "       4.19117304e+01, 2.57153123e+02, 1.07259017e+02, 1.34670241e+01,\n",
              "       2.13689223e+02, 1.50014757e+02, 2.34845914e+02, 2.49504232e+01,\n",
              "       1.80058211e+02, 1.75968643e+02, 1.75220447e+02, 6.50633920e+01,\n",
              "       3.47848039e+01, 9.64494305e+01, 2.12038601e+02, 1.58759558e+02,\n",
              "       2.36192822e+02, 1.73486101e+02, 1.94739378e+02, 2.19389729e+02,\n",
              "       3.39228950e+01, 1.68446594e+01, 8.93903290e+01, 2.90985339e+01,\n",
              "       3.06540624e+02, 1.20170992e+02, 3.25601308e+01, 1.99439622e+02,\n",
              "       2.20951543e+02, 2.70181578e+02, 1.51871628e+02, 2.30878902e+02,\n",
              "       3.77831119e+01, 2.61399587e+02, 6.91502453e+01, 1.56335432e+01,\n",
              "       1.51143880e+02, 2.26046156e+02, 3.02679920e+02, 1.68497435e+02,\n",
              "       1.44927575e+02, 5.01181034e+01, 2.82328173e+02, 2.91159607e+02,\n",
              "       6.18685749e+01, 1.55398075e+02, 8.85474925e+01, 2.05916739e+02,\n",
              "       1.71035753e+02, 3.23962128e+02, 2.96763279e+02, 7.24186640e+01,\n",
              "       1.52860659e+02, 1.48631664e+01, 1.42409236e+02, 1.47709891e+02,\n",
              "       2.76777741e+02, 2.06774600e+02, 1.38195610e+02, 9.08532269e+01,\n",
              "       1.91722682e+02, 1.11533656e+02, 9.15126027e+01, 2.67339131e+02,\n",
              "       2.79624000e+02, 1.25213362e+02, 1.60356784e+02, 7.46268397e+01,\n",
              "       1.83225914e+02, 2.23458067e+02, 1.50318257e+01, 2.83148263e+02,\n",
              "       1.15825583e+02, 1.75795273e+02, 1.23562143e+01, 2.48490474e+02,\n",
              "       1.25443109e+02, 3.65278829e+02, 4.71741664e+01, 3.58577954e+02,\n",
              "       1.20338313e+02, 2.67911762e+02, 3.55221270e+02, 2.26504005e+02,\n",
              "       1.03846113e+02, 1.40940094e+02, 5.97044083e+00, 3.40556460e+02,\n",
              "       1.95567027e+02, 3.12018280e+02, 3.47958203e+02, 3.64389343e+02,\n",
              "       2.03729335e+02, 1.45732452e+02, 2.91412536e+01, 3.29413820e+01,\n",
              "       1.09213780e+02, 1.35881901e+02, 2.71791673e+02, 2.87525182e+02,\n",
              "       1.55670181e+02, 2.53316902e+02, 4.04221193e+01, 1.19724771e+02,\n",
              "       2.98818565e+02, 2.50119467e+02, 1.02371553e+02, 1.67923186e+02,\n",
              "       3.81305222e+02, 5.47384532e+01, 2.55976817e+02, 2.59584742e+02,\n",
              "       1.87398568e+02, 1.56126983e+02, 1.32485745e+02, 3.10311176e+02,\n",
              "       2.33385534e+02, 2.97915508e+02, 3.94776533e+02, 1.95269721e+02,\n",
              "       2.49024155e+02, 3.68747839e+02, 1.95926862e+02, 8.51929096e+00,\n",
              "       4.05371030e+02, 1.21121011e+02, 3.46351044e+02, 1.68791527e+02,\n",
              "       3.57054723e+02, 7.45965281e+01, 2.81842384e+01, 4.05150586e+02,\n",
              "       5.15268746e+01, 2.47382424e+02, 3.20901928e+02, 4.06533109e+02,\n",
              "       7.80742775e+01, 2.20551727e+02, 4.35691633e+01, 2.21435164e+02,\n",
              "       3.42279883e+02, 1.28168052e+01, 1.61579513e+02, 1.36042412e+02,\n",
              "       3.88192036e+02, 1.49485214e+02, 1.78027135e+02, 3.58188339e+02,\n",
              "       2.66908315e+02, 1.17038348e+02, 2.14282853e+02, 2.96197108e+02,\n",
              "       2.73054481e+02, 1.15295676e+02, 4.30703710e+02, 3.32328976e+02,\n",
              "       4.29995777e+02, 8.36967766e+01, 2.48013974e+02, 3.52414661e+02,\n",
              "       1.58492793e+02, 3.94001123e+02, 9.11498584e+01, 2.12651507e+02,\n",
              "       4.26161733e+02, 3.65525187e+02, 4.54756184e+02, 3.12033075e+02,\n",
              "       3.28545993e+02, 4.48157047e+02, 2.54998106e+02, 4.10220510e+00,\n",
              "       2.13402204e+02, 1.90689023e+02, 3.11365328e+02, 1.19957653e+01,\n",
              "       3.02936571e+02, 2.22289114e+02, 3.95015564e+02, 1.55752542e+02,\n",
              "       4.65002436e+02, 1.92288021e+02, 1.02075944e+02, 3.55973770e+02,\n",
              "       1.92139218e+02, 1.93262363e+01, 7.92108777e+01, 1.67939640e+02,\n",
              "       4.38389433e+02, 3.22320454e+01, 2.76530989e+01, 2.36173854e+02,\n",
              "       2.44322933e+02, 3.81329493e+02, 3.03623403e+02, 3.36049585e+02,\n",
              "       5.79683915e+00, 2.77490072e+01, 1.81594978e+02, 4.40900441e+02,\n",
              "       2.38646918e+02, 4.65513404e+02, 6.32749982e+01, 2.69047325e+01,\n",
              "       1.84192289e+02, 4.85287793e+02, 3.79476537e+02, 2.72216595e+02,\n",
              "       3.49875091e+01, 3.77251840e+02, 2.38002454e+02, 2.07889195e+02,\n",
              "       1.59348038e+02, 1.25723245e+02, 2.28405089e+02, 1.32092001e+01,\n",
              "       3.15568502e+02, 1.05990787e+02, 1.96379552e+02, 1.44683283e+02,\n",
              "       2.84409882e+01, 1.05469950e+02, 5.03935295e+02, 4.99194595e+02,\n",
              "       1.93331521e+02, 1.40922034e+02, 4.88632778e+02, 2.57446416e+02,\n",
              "       1.30177980e+01, 4.58718563e+02, 1.06908627e+02, 2.41831655e+02,\n",
              "       4.02226429e+02, 1.09984718e+02, 5.48292851e+01, 4.70676093e+01,\n",
              "       1.26196245e+02, 8.24307966e+01, 3.34889318e+02, 4.88937123e+02,\n",
              "       1.88595303e+02, 2.52626253e+02, 3.68127443e+02, 1.08519724e+02,\n",
              "       1.59521556e+02, 2.85728748e+02, 5.46398209e+01, 3.31447756e+02,\n",
              "       4.60334858e+02, 7.76229318e+01, 2.76442636e+02, 1.75275516e+02,\n",
              "       1.36348718e+02, 4.00165683e+02, 3.59820131e+02, 5.02721689e+02,\n",
              "       2.10144537e+01, 4.30466077e+02, 1.71426862e+02, 4.33551136e+01,\n",
              "       5.42490518e+02, 3.42557967e+02, 2.56090719e+02, 9.24059412e+01,\n",
              "       3.25607085e+02, 2.89841522e+02, 4.16051061e+02, 3.76675841e+01,\n",
              "       3.02462151e+02, 2.49243505e+02, 2.44134075e+02, 5.35443464e+02,\n",
              "       9.59032126e+01, 1.94252681e+02, 1.63863759e+02, 2.12937262e+02,\n",
              "       3.37563430e+02, 1.30330890e+02, 3.40351015e+02, 2.64845861e+02,\n",
              "       3.80489368e+02, 1.09523507e+01, 2.83365451e+02, 6.33505990e+01,\n",
              "       3.10118212e+02, 2.81754244e+02, 5.67624954e+02, 6.46012755e+01,\n",
              "       5.16053798e+02, 1.69907213e+01, 3.06970225e+02, 5.07227073e+02,\n",
              "       1.63092122e+02, 1.16242842e+02, 6.86061703e+01, 1.56788988e+02,\n",
              "       2.90959168e+02, 4.42457459e+02, 4.60749259e+02, 2.36129019e+02,\n",
              "       1.77785814e+02, 3.38540492e+02, 5.07482771e+02, 2.88192289e+02,\n",
              "       9.68567829e+01, 1.98857793e+02, 5.11114638e+02, 3.85365909e+02,\n",
              "       3.05770403e+02, 7.55250278e+01, 3.97368301e+02, 3.54962997e+02,\n",
              "       2.22843757e+02, 4.67713610e+02, 3.87517610e+02, 1.45111532e+02,\n",
              "       2.80384513e+02, 5.17296932e+02, 2.54482354e+02, 2.78473865e+02,\n",
              "       1.77433564e+01, 4.44983788e+02, 2.59674547e+02, 4.77424367e+02,\n",
              "       5.01884853e+02, 5.55741593e+02, 4.78271967e+02, 2.35162878e+02,\n",
              "       3.67870429e+02, 4.10045615e+02, 2.82676400e+02, 1.93939213e+02,\n",
              "       3.02970230e+02, 4.26813694e+02, 2.54681498e+02, 1.70784140e+02,\n",
              "       4.19120666e+02, 5.22943679e+02, 8.88364112e+00, 4.48947785e+02,\n",
              "       1.17489258e+02, 7.00582351e+01, 2.64846773e+02, 1.61898444e+02,\n",
              "       5.66486403e+02, 5.78015733e+02, 5.01292142e+02, 4.41054735e+02,\n",
              "       2.61073577e+02, 9.67999757e+01, 4.84083222e+02, 1.18896835e+02,\n",
              "       1.48750913e+02, 6.13656855e+02, 6.29345580e+02, 2.95777840e+02,\n",
              "       2.77300194e+02, 4.76630989e+01, 2.64282347e+02, 5.00767802e+02,\n",
              "       2.16626117e+02, 6.40169768e+01, 5.25784606e+02, 2.23351873e+02,\n",
              "       3.47877852e+02, 7.76652606e+00, 5.27952924e+01, 6.07149615e+02,\n",
              "       4.85255048e+02, 3.78054608e+01, 2.65268789e+02, 2.93438594e+02,\n",
              "       2.76666404e+02, 6.68473241e+01, 1.65327684e+02, 5.20957668e+02,\n",
              "       4.94958059e+02, 4.33116784e+02, 5.37470878e+02, 5.81146653e+02,\n",
              "       4.89718471e+02, 1.01049980e+02, 3.77891775e+02, 6.64028807e+02,\n",
              "       3.96355571e+02, 6.07096144e+01, 6.10711711e+02, 5.65893969e+02,\n",
              "       1.42117095e+01, 3.19222538e+02, 1.39794398e+02, 6.15801532e+02,\n",
              "       1.27390489e+02, 5.80162778e+02, 3.92181423e+02, 3.75907601e+02,\n",
              "       4.40172203e+02, 2.68941024e+02, 1.82907374e+02, 4.16701179e+02,\n",
              "       2.30229023e+02, 3.61681850e+02, 4.80938544e+02, 4.29031506e+02,\n",
              "       5.50717084e+02, 5.99129842e+02, 4.22927506e+02, 3.48634016e+02,\n",
              "       3.21163947e+02, 4.83203941e+02, 4.11891812e+01, 1.48749051e+02,\n",
              "       2.52594906e+02, 1.48991670e+02, 4.48967929e+02, 6.63547706e+02,\n",
              "       1.95319736e+02, 4.91881336e+02, 6.03698534e+02, 4.65310631e+02,\n",
              "       2.87969804e+01, 5.78441880e+02, 2.98587086e+02, 6.40797553e+02,\n",
              "       5.40382733e+02, 4.93707050e+02, 6.75184985e+02, 4.78567847e+02,\n",
              "       5.04876778e+02, 3.65218697e+02, 5.82371207e+01, 5.97232418e+02,\n",
              "       5.68311194e+02, 7.52494904e+00, 2.11164170e+02, 4.00183564e+02,\n",
              "       1.51492375e+01, 2.05876752e+02, 2.03500276e+02, 6.05839428e+02,\n",
              "       4.12534192e+02, 4.15533266e+02, 6.40894237e+02, 2.87709028e+02,\n",
              "       5.01583640e+02, 3.37887125e+01, 6.96708378e+02, 6.49275856e+02,\n",
              "       7.09339953e+02, 5.42159962e+02, 5.19204439e+02, 3.32357499e+02,\n",
              "       7.12377441e+01, 1.97586088e+02, 7.14723359e+02, 6.17004457e+02,\n",
              "       3.86938866e+02, 7.29676819e+02, 3.48236240e+02, 7.22983372e+02,\n",
              "       6.23870494e+02, 4.35063502e+02, 3.48114259e+01, 5.21836650e+02,\n",
              "       2.82259811e+02, 6.66628956e+02, 1.62266877e+02, 5.96602646e+02,\n",
              "       7.22156352e+01, 5.60762445e+02, 3.78482564e+02, 6.55464566e+02,\n",
              "       1.71440627e+02, 2.61260275e+01, 1.40593958e+01, 1.09159264e+02,\n",
              "       1.48635947e+02, 2.84841272e+02, 7.20933073e+02, 6.46036313e+02,\n",
              "       5.56787952e+02, 3.34362074e+02, 2.18673379e+02, 7.49202973e+02,\n",
              "       4.42554197e+02, 6.82552184e+02, 7.55462495e+02, 1.25246236e+01,\n",
              "       4.96371120e+02, 6.78312771e+02, 5.39459494e+02, 3.68208995e+02,\n",
              "       7.34142695e+02, 2.64997858e+02, 4.44854733e+02, 3.92099085e+00,\n",
              "       7.21513807e+02, 5.87810900e+02, 6.19015744e+02, 5.01438339e+02,\n",
              "       1.65848107e+02, 4.71090613e+02, 4.25279040e+02, 1.40861782e+02,\n",
              "       7.67369366e+01, 4.59646392e+02, 4.65097609e+02, 3.45882409e+02,\n",
              "       5.58438697e+02, 3.96397632e+02, 6.57426613e+02, 6.45594131e+02,\n",
              "       2.53030249e+02, 1.25972302e+02, 3.80602582e+02, 4.65518490e+02,\n",
              "       3.92130014e+02, 1.69084012e+02, 6.57129544e+02, 6.17117471e+02,\n",
              "       1.14867327e+02, 1.22322309e+02, 1.86096403e+02, 2.34979799e+02,\n",
              "       7.10689196e+02, 7.59721258e+02, 8.20514635e+01, 4.87519612e+02,\n",
              "       2.38942102e+02, 3.04252190e+02, 5.69259893e+02, 7.14124340e+02,\n",
              "       5.13362375e+02, 5.73736302e+02, 5.06696892e+01, 5.32860665e+02,\n",
              "       4.02232692e+02, 2.54230506e+02, 6.79240905e+02, 4.39998950e+02,\n",
              "       2.14865747e+02, 3.30947821e+02, 5.40842682e+02, 7.25080575e+02,\n",
              "       2.99498506e+02, 3.72008654e+02, 2.60271495e+02, 4.74855416e+02,\n",
              "       5.37217851e+02, 2.52112820e+02, 1.93777572e+02, 2.32259938e+02,\n",
              "       1.75184332e+02, 3.00401478e+01, 2.88766749e+02, 5.63130726e+02,\n",
              "       7.39536037e+02, 6.64886781e+02, 4.94920981e+02, 3.28335724e+02,\n",
              "       6.44738987e+02, 5.12602900e+02, 3.07447186e+00, 8.16150443e+02,\n",
              "       7.80309860e+02, 3.74510557e+02, 6.92901657e+02, 3.13782124e+02,\n",
              "       4.15721712e+02, 2.36919935e+02, 5.77518589e+02, 2.71422608e+02,\n",
              "       7.55127207e+02, 1.68345143e+02, 7.38555983e+02, 1.65771261e+02,\n",
              "       3.15464373e+02, 8.27601229e+02, 6.72096539e+02, 6.93917252e+02,\n",
              "       7.99619476e+02, 4.24385750e+02, 5.24047798e+02, 8.59997785e+02,\n",
              "       7.51337956e+02, 7.33053100e+02, 4.27387573e+02, 6.90335725e+02,\n",
              "       5.62422870e+02, 4.24953322e+02, 3.18114214e+02, 1.98353335e+02,\n",
              "       4.02563186e+02, 1.87425084e+02, 4.76332898e+02, 7.29472510e+02,\n",
              "       8.79834423e+02, 3.58323987e+02, 4.69770077e+02, 5.09742541e+02,\n",
              "       7.53986957e+02, 8.10467916e+02, 5.91800380e+02, 7.84189183e+02,\n",
              "       7.77537764e+02, 3.08236840e+02, 8.49110115e+02, 4.06790670e+02,\n",
              "       7.85094772e+01, 8.45999310e+02, 8.39150601e+02, 3.57677811e+02,\n",
              "       1.01956885e+02, 2.61668100e+02, 7.21944724e+02, 1.71969604e+02,\n",
              "       7.19960828e+02, 1.96892453e+02, 3.13194792e+01, 7.64083781e+02,\n",
              "       1.28011646e+01, 7.52943037e+02, 5.40300656e+02, 5.04626557e+02,\n",
              "       7.79539499e+02, 3.38712468e+02, 1.02353457e+02, 5.36107227e+02,\n",
              "       2.23062417e+02, 1.59877389e+02, 2.86285252e+02, 4.05342912e+02,\n",
              "       3.47809922e+01, 6.23715775e+02, 8.79018564e+02, 1.30823880e+02,\n",
              "       4.54380011e+02, 7.81214003e+01, 8.42175222e+02, 4.89583866e+02,\n",
              "       4.83434973e+02, 4.81901127e+02, 4.06027331e+02, 3.40204140e+02,\n",
              "       3.34597319e+02, 3.01010193e+02, 7.28209827e+02, 5.37134866e+02,\n",
              "       4.95121637e+02, 5.67238836e+02, 4.18601491e+02, 2.89620224e+02,\n",
              "       7.45648288e+02, 8.28443439e+02, 4.73219566e+02, 5.90665925e+02,\n",
              "       8.03891379e+02, 3.22928191e+02, 9.42050807e+02, 6.79125531e+02,\n",
              "       8.23592825e+02, 3.46802842e+02, 2.18371642e+02, 5.76843103e+02,\n",
              "       2.99155904e+01, 4.34657052e+02, 7.39380354e+02, 4.23542659e+02,\n",
              "       1.13987926e+02, 3.45293681e+02, 2.66728514e+02, 6.47948316e+02,\n",
              "       9.21338351e+02, 5.28053544e+02, 6.04276562e+02, 5.29222189e+02,\n",
              "       4.98957885e+01, 5.63796585e+02, 2.64613954e+02, 8.55688663e+02,\n",
              "       1.79209981e+02, 5.73859656e+02, 7.05930766e+02, 6.93284174e+02,\n",
              "       1.75340016e+02, 3.96243712e+02, 7.41077996e+02, 3.32149454e+02,\n",
              "       1.62147436e+02, 3.28947457e+02, 9.73829316e+02, 2.84220333e+02,\n",
              "       1.46443431e+02, 7.53342536e+02, 8.10579953e+02, 1.34095668e+01,\n",
              "       4.41621157e+02, 2.29894282e+01, 2.21118345e+02, 6.09909830e+02,\n",
              "       9.03923019e+02, 2.15726359e+02, 9.11069497e+02, 8.38536437e+02,\n",
              "       5.08458441e+02, 6.71188243e+01, 3.26037740e+01, 1.93655125e+02,\n",
              "       3.67399972e+02, 1.91161297e+02, 9.70779179e+02, 2.07929076e+02])"
            ]
          },
          "metadata": {
            "tags": []
          },
          "execution_count": 25
        }
      ]
    },
    {
      "cell_type": "markdown",
      "metadata": {
        "id": "QyWwbcdJSyTc"
      },
      "source": [
        "We now have sales prices for 1000 items currently for sale at BuyStuff. Now create an RDD called `price_items` using the newly created data with 10 slices. After you create it, use one of the basic actions to see what's in the RDD."
      ]
    },
    {
      "cell_type": "code",
      "metadata": {
        "colab": {
          "base_uri": "https://localhost:8080/"
        },
        "id": "HYrk9APPSyTc",
        "outputId": "2f7ca24a-46a9-4009-d372-c68caf82120e"
      },
      "source": [
        "price_items = sc.parallelize(sales_figures, numSlices=10)\n",
        "price_items.take(5)"
      ],
      "execution_count": 27,
      "outputs": [
        {
          "output_type": "execute_result",
          "data": {
            "text/plain": [
              "[0.9097416621892258,\n",
              " 1.0750907385474997,\n",
              " 0.7900311053352941,\n",
              " 1.2183567492258631,\n",
              " 2.6933402936140407]"
            ]
          },
          "metadata": {
            "tags": []
          },
          "execution_count": 27
        }
      ]
    },
    {
      "cell_type": "markdown",
      "metadata": {
        "id": "Zy2tLzrCSyTc"
      },
      "source": [
        "Now let's perform some operations on this simple dataset. To begin with, create a function that will take into account how much money BuyStuff will receive after sales tax has been applied (assume a sales tax of 8%). To make this happen, create a function called `sales_tax()` that returns the amount of money our company will receive after the sales tax has been applied. The function will have this parameter:\n",
        "\n",
        "* `item`: (float) number to be multiplied by the sales tax.\n",
        "\n",
        "\n",
        "Apply that function to the rdd by using the `.map()` method and assign it to a variable `renenue_minus_tax`"
      ]
    },
    {
      "cell_type": "code",
      "metadata": {
        "id": "jBtT7JlOSyTc"
      },
      "source": [
        "def sales_tax(num):\n",
        "    return num*0.92\n",
        "\n",
        "revenue_minus_tax = price_items.map(sales_tax)"
      ],
      "execution_count": 28,
      "outputs": []
    },
    {
      "cell_type": "markdown",
      "metadata": {
        "id": "bCpCWjpoSyTc"
      },
      "source": [
        "Remember, Spark has __lazy evaluation__, which means that the `sales_tax()` function is a transformer that is not executed until you call an action. Use one of the collection methods to execute the transformer now a part of the RDD and observe the contents of the `revenue_minus_tax` rdd."
      ]
    },
    {
      "cell_type": "code",
      "metadata": {
        "scrolled": true,
        "colab": {
          "base_uri": "https://localhost:8080/"
        },
        "id": "y1MB77sjSyTc",
        "outputId": "4a8a66b3-cc37-41f3-d5db-f4140912fc7e"
      },
      "source": [
        "# perform action to retrieve rdd values\n",
        "revenue_minus_tax.take(10)"
      ],
      "execution_count": 29,
      "outputs": [
        {
          "output_type": "execute_result",
          "data": {
            "text/plain": [
              "[0.8369623292140878,\n",
              " 0.9890834794636998,\n",
              " 0.7268286169084706,\n",
              " 1.120888209287794,\n",
              " 2.4778730701249176,\n",
              " 0.3049976671949442,\n",
              " 0.007939936819568826,\n",
              " 1.9124373063583469,\n",
              " 8.135817315354902,\n",
              " 8.637095197625007]"
            ]
          },
          "metadata": {
            "tags": []
          },
          "execution_count": 29
        }
      ]
    },
    {
      "cell_type": "markdown",
      "metadata": {
        "id": "Gg8rutUQSyTc"
      },
      "source": [
        "### Lambda Functions\n",
        "\n",
        "Note that you can also use lambda functions if you want to quickly perform simple operations on data without creating a function. Let's assume that BuyStuff has also decided to offer a 10% discount on all of their items on the pre-tax amounts of each item. Use a lambda function within a `.map()` method to apply the additional 10% loss in revenue for BuyStuff and assign the transformed RDD to a new RDD called `discounted`."
      ]
    },
    {
      "cell_type": "code",
      "metadata": {
        "id": "L_v4O2TjSyTc"
      },
      "source": [
        "discounted = price_items.map(lambda x : x*.90)"
      ],
      "execution_count": 32,
      "outputs": []
    },
    {
      "cell_type": "code",
      "metadata": {
        "scrolled": true,
        "colab": {
          "base_uri": "https://localhost:8080/"
        },
        "id": "NPDXcN8ySyTc",
        "outputId": "ae599644-36c8-4c01-c64f-ee00785c64f8"
      },
      "source": [
        "discounted.take(10)"
      ],
      "execution_count": 33,
      "outputs": [
        {
          "output_type": "execute_result",
          "data": {
            "text/plain": [
              "[0.8187674959703033,\n",
              " 0.9675816646927498,\n",
              " 0.7110279948017647,\n",
              " 1.096521074303277,\n",
              " 2.4240062642526365,\n",
              " 0.2983672831254889,\n",
              " 0.007767329497404285,\n",
              " 1.8708625823070784,\n",
              " 7.958951721542839,\n",
              " 8.449332258546201]"
            ]
          },
          "metadata": {
            "tags": []
          },
          "execution_count": 33
        }
      ]
    },
    {
      "cell_type": "markdown",
      "metadata": {
        "id": "sUuxAIBoSyTc"
      },
      "source": [
        "## Chaining Methods\n",
        "\n",
        "You are also able to chain methods together with Spark. In one line, remove the tax and discount from the revenue of BuyStuff and use a collection method to see the 15 costliest items."
      ]
    },
    {
      "cell_type": "code",
      "metadata": {
        "scrolled": true,
        "colab": {
          "base_uri": "https://localhost:8080/"
        },
        "id": "ValNnQM_SyTd",
        "outputId": "82dbe980-f69c-45b3-aa83-b5351b8886dd"
      },
      "source": [
        "price_items.map(lambda x : x*0.90).map(sales_tax).top(15)"
      ],
      "execution_count": 34,
      "outputs": [
        {
          "output_type": "execute_result",
          "data": {
            "text/plain": [
              "[806.3306740237836,\n",
              " 803.8051602607724,\n",
              " 780.018068219554,\n",
              " 762.86815441443,\n",
              " 754.3655437619519,\n",
              " 748.4482593928146,\n",
              " 728.5029025780455,\n",
              " 727.8273707102985,\n",
              " 712.0781659537221,\n",
              " 708.5102132595046,\n",
              " 703.0631754066147,\n",
              " 700.487428615305,\n",
              " 697.3210834990548,\n",
              " 694.816697467388,\n",
              " 694.3081698836852]"
            ]
          },
          "metadata": {
            "tags": []
          },
          "execution_count": 34
        }
      ]
    },
    {
      "cell_type": "markdown",
      "metadata": {
        "id": "gkBvz4bQSyTd"
      },
      "source": [
        "## RDD Lineage\n",
        "\n",
        "\n",
        "We are able to see the full lineage of all the operations that have been performed on an RDD by using the `RDD.toDebugString()` method. As your transformations become more complex, you are encouraged to call this method to get a better understanding of the dependencies between RDDs. Try calling it on the `discounted` RDD to see what RDDs it is dependent on."
      ]
    },
    {
      "cell_type": "code",
      "metadata": {
        "colab": {
          "base_uri": "https://localhost:8080/"
        },
        "id": "bHp0OmWhSyTd",
        "outputId": "10d0292d-7fc7-442d-8df6-693e4de4e339"
      },
      "source": [
        "discounted.toDebugString()"
      ],
      "execution_count": 35,
      "outputs": [
        {
          "output_type": "execute_result",
          "data": {
            "text/plain": [
              "b'(10) PythonRDD[11] at RDD at PythonRDD.scala:53 []\\n |   ParallelCollectionRDD[5] at parallelize at PythonRDD.scala:195 []'"
            ]
          },
          "metadata": {
            "tags": []
          },
          "execution_count": 35
        }
      ]
    },
    {
      "cell_type": "markdown",
      "metadata": {
        "id": "rIueg1cBSyTd"
      },
      "source": [
        "### Map vs. Flatmap\n",
        "\n",
        "Depending on how you want your data to be outputted, you might want to use `.flatMap()` rather than a simple `.map()`. Let's take a look at how it performs operations versus the standard map. Let's say we wanted to maintain the original amount BuyStuff receives for each item as well as the new amount after the tax and discount are applied. Create a map function that will return a tuple with (original price, post-discount price)."
      ]
    },
    {
      "cell_type": "code",
      "metadata": {
        "colab": {
          "base_uri": "https://localhost:8080/"
        },
        "id": "3LsEV2uHSyTd",
        "outputId": "785ecb36-0f53-4003-dbbb-1b78c12b5ed2"
      },
      "source": [
        "mapped = price_items.map(lambda x: (x, x*0.92 *0.9))\n",
        "print(mapped.count())\n",
        "print(mapped.take(3))"
      ],
      "execution_count": 49,
      "outputs": [
        {
          "output_type": "stream",
          "text": [
            "1000\n",
            "[(0.9097416621892258, 0.753266096292679), (1.0750907385474997, 0.8901751315173299), (0.7900311053352941, 0.6541457552176235)]\n"
          ],
          "name": "stdout"
        }
      ]
    },
    {
      "cell_type": "markdown",
      "metadata": {
        "id": "ENAfpj3oSyTd"
      },
      "source": [
        "Note that we have 1000 tuples created to our specification. Let's take a look at how `.flatMap()` differs in its implementation. Use the `.flatMap()` method with the same function you created above."
      ]
    },
    {
      "cell_type": "code",
      "metadata": {
        "colab": {
          "base_uri": "https://localhost:8080/"
        },
        "id": "fZHMGyWmSyTd",
        "outputId": "1dfe45f9-455b-43a0-d146-b090986ca584"
      },
      "source": [
        "flat_mapped = price_items.flatMap(lambda x: (x, x*0.92 *0.9))\n",
        "print(flat_mapped.count())\n",
        "print(flat_mapped.take(3))"
      ],
      "execution_count": 50,
      "outputs": [
        {
          "output_type": "stream",
          "text": [
            "2000\n",
            "[0.9097416621892258, 0.753266096292679, 1.0750907385474997]\n"
          ],
          "name": "stdout"
        }
      ]
    },
    {
      "cell_type": "markdown",
      "metadata": {
        "id": "VgtiowPTSyTd"
      },
      "source": [
        "Rather than being represented by tuples, all of the  values are now on the same level. When we are trying to combine different items together, it is sometimes necessary to use `.flatMap()` rather than `.map()` in order to properly reduce to our specifications. This is not one of those instances, but in the upcoming lab, you just might have to use it."
      ]
    },
    {
      "cell_type": "markdown",
      "metadata": {
        "id": "dOJZhWvNSyTd"
      },
      "source": [
        "## Filter\n",
        "After meeting with some external consultants, BuyStuff has determined that its business will be more profitable if it focuses on higher ticket items. Now, use the `.filter()` method to select items that bring in more than $300 after tax and discount have been removed. A filter method is a specialized form of a map function that only returns the items that match a certain criterion. In the cell below:\n",
        "* use a lambda function within a `.filter()` method to meet the consultant's suggestion's specifications. set `RDD = selected_items`\n",
        "* calculate the total number of items remaining in BuyStuff's inventory"
      ]
    },
    {
      "cell_type": "code",
      "metadata": {
        "colab": {
          "base_uri": "https://localhost:8080/"
        },
        "id": "JZXJZZahSyTd",
        "outputId": "534845b0-45ec-44fd-9d62-59f25153f85c"
      },
      "source": [
        "# use the filter function\n",
        "selected_items = discounted.filter(lambda x : x>300)\n",
        "\n",
        "# calculate total remaining in inventory \n",
        "selected_items.count()\n",
        "\n",
        "selected_items.take(10)"
      ],
      "execution_count": 47,
      "outputs": [
        {
          "output_type": "execute_result",
          "data": {
            "text/plain": [
              "[328.7509461952149,\n",
              " 322.7201581860288,\n",
              " 319.6991431034418,\n",
              " 306.50081431347803,\n",
              " 313.16238229252343,\n",
              " 327.95040862502276,\n",
              " 343.17470009697655,\n",
              " 355.2988801020333,\n",
              " 331.87305471246884,\n",
              " 364.83392660835807]"
            ]
          },
          "metadata": {
            "tags": []
          },
          "execution_count": 47
        }
      ]
    },
    {
      "cell_type": "markdown",
      "metadata": {
        "id": "81puOy9vSyTd"
      },
      "source": [
        "## Reduce\n",
        "\n",
        "Reduce functions are where you are in some way combing all of the variables that you have mapped out. Here is an example of how a reduce function works when the task is to sum all values:\n",
        "\n",
        "<img src = \"./images/reduce_function.png\" width = \"600\">  \n",
        "\n",
        "\n",
        "As you can see, the operation is performed within each partition first, after which, the results of the computations in each partition are combined to come up with one final answer.  \n",
        "\n",
        "Now it's time to figure out how much money BuyStuff would make from selling one of all of its items after they've reduced their inventory. Use the `.reduce()` method with a lambda function to add up all of the values in the RDD. Your lambda function should have two variables. "
      ]
    },
    {
      "cell_type": "code",
      "metadata": {
        "colab": {
          "base_uri": "https://localhost:8080/"
        },
        "id": "_S5Esg6ySyTd",
        "outputId": "4e78ead8-740d-40a0-ef16-455e9b237dc1"
      },
      "source": [
        "selected_items.reduce(lambda x,y : x + y)"
      ],
      "execution_count": 40,
      "outputs": [
        {
          "output_type": "execute_result",
          "data": {
            "text/plain": [
              "151232.60230539506"
            ]
          },
          "metadata": {
            "tags": []
          },
          "execution_count": 40
        }
      ]
    },
    {
      "cell_type": "markdown",
      "metadata": {
        "id": "EvhQvYB0SyTd"
      },
      "source": [
        "The time has come for BuyStuff to open up shop and start selling its goods. It only has one of each item, but it's allowing 50 lucky users to buy as many items as they want while they remain in stock. Within seconds, BuyStuff is sold out. Below, you'll find the sales data in an RDD with tuples of (user, item bought)."
      ]
    },
    {
      "cell_type": "code",
      "metadata": {
        "colab": {
          "base_uri": "https://localhost:8080/"
        },
        "id": "sEBnFH7DSyTd",
        "outputId": "9c664b69-85e7-421b-d4d7-53631a590aa7"
      },
      "source": [
        "import random\n",
        "random.seed(42)\n",
        "# generating simulated users that have bought each item\n",
        "sales_data = selected_items.map(lambda x: (random.randint(1, 50), x))\n",
        "\n",
        "sales_data.take(7)"
      ],
      "execution_count": 41,
      "outputs": [
        {
          "output_type": "execute_result",
          "data": {
            "text/plain": [
              "[(4, 328.7509461952149),\n",
              " (34, 322.7201581860288),\n",
              " (44, 319.6991431034418),\n",
              " (32, 306.50081431347803),\n",
              " (4, 313.16238229252343),\n",
              " (4, 327.95040862502276),\n",
              " (22, 343.17470009697655)]"
            ]
          },
          "metadata": {
            "tags": []
          },
          "execution_count": 41
        }
      ]
    },
    {
      "cell_type": "markdown",
      "metadata": {
        "id": "hClxPq6WSyTd"
      },
      "source": [
        "It's time to determine some basic statistics about BuyStuff users.\n",
        "\n",
        "Let's start off by creating an RDD that determines how much each user spent in total.\n",
        "To do this we can use a method called `.reduceByKey()` to perform reducing operations while grouping by keys. After you have calculated the total, use the `.sortBy()` method on the RDD to rank the users from the highest spending to the least spending. "
      ]
    },
    {
      "cell_type": "code",
      "metadata": {
        "colab": {
          "base_uri": "https://localhost:8080/"
        },
        "id": "jvkbZGDhSyTd",
        "outputId": "6b7a965e-7410-45d3-8751-08f1b04db2e8"
      },
      "source": [
        "# calculate how much each user spent\n",
        "total_spent = sales_data.reduceByKey(lambda x,y : x+y)\n",
        "total_spent.take(10)"
      ],
      "execution_count": 54,
      "outputs": [
        {
          "output_type": "execute_result",
          "data": {
            "text/plain": [
              "[(30, 3798.9549992867433),\n",
              " (50, 3065.404276872998),\n",
              " (10, 6825.315573756229),\n",
              " (20, 3431.365136337263),\n",
              " (40, 2255.9559452508774),\n",
              " (1, 4055.8340375690705),\n",
              " (21, 4614.281244970507),\n",
              " (11, 3840.2516165579314),\n",
              " (41, 1964.4929229072893),\n",
              " (31, 2335.694308743668)]"
            ]
          },
          "metadata": {
            "tags": []
          },
          "execution_count": 54
        }
      ]
    },
    {
      "cell_type": "code",
      "metadata": {
        "colab": {
          "base_uri": "https://localhost:8080/"
        },
        "id": "vmvECiWZSyTd",
        "outputId": "323ee4a2-d2da-4953-e863-1d259296e783"
      },
      "source": [
        "# sort the users from highest to lowest spenders\n",
        "total_spent.sortBy(lambda x: x[1], ascending=False).collect()"
      ],
      "execution_count": 46,
      "outputs": [
        {
          "output_type": "execute_result",
          "data": {
            "text/plain": [
              "[(10, 6825.315573756229),\n",
              " (26, 6191.127018000689),\n",
              " (16, 5751.730314775039),\n",
              " (35, 5307.480334509566),\n",
              " (44, 5192.264847340997),\n",
              " (32, 5155.3425978628675),\n",
              " (21, 4614.281244970507),\n",
              " (37, 4608.911862438636),\n",
              " (43, 4319.589326248057),\n",
              " (4, 4184.787931804385),\n",
              " (33, 4103.71831092379),\n",
              " (1, 4055.8340375690705),\n",
              " (11, 3840.2516165579314),\n",
              " (30, 3798.9549992867433),\n",
              " (48, 3780.842510718174),\n",
              " (23, 3723.350159291574),\n",
              " (12, 3684.3404817827673),\n",
              " (20, 3431.365136337263),\n",
              " (6, 3272.5784109579668),\n",
              " (42, 3166.5831985497216),\n",
              " (27, 3109.39441895029),\n",
              " (50, 3065.404276872998),\n",
              " (38, 3055.428749350682),\n",
              " (17, 2864.698681393239),\n",
              " (9, 2852.9046898244087),\n",
              " (22, 2679.7833477211007),\n",
              " (28, 2424.3569215769576),\n",
              " (31, 2335.694308743668),\n",
              " (49, 2302.8420072396125),\n",
              " (19, 2259.7787726713614),\n",
              " (40, 2255.9559452508774),\n",
              " (29, 2174.7073496360954),\n",
              " (24, 2149.390261112555),\n",
              " (45, 2071.3358196111412),\n",
              " (5, 2056.8040219137483),\n",
              " (46, 2045.8775989444089),\n",
              " (18, 1972.0041075378253),\n",
              " (41, 1964.4929229072893),\n",
              " (13, 1917.0426474761016),\n",
              " (15, 1890.4243769922798),\n",
              " (39, 1869.2102420303877),\n",
              " (2, 1839.9198376604236),\n",
              " (8, 1812.9977804960427),\n",
              " (36, 1780.0434629013648),\n",
              " (25, 1602.0320198568193),\n",
              " (7, 1509.862252962362),\n",
              " (47, 1451.8526446457429),\n",
              " (34, 1305.143295976168),\n",
              " (3, 805.9216614718671),\n",
              " (14, 798.6479679853052)]"
            ]
          },
          "metadata": {
            "tags": []
          },
          "execution_count": 46
        }
      ]
    },
    {
      "cell_type": "markdown",
      "metadata": {
        "id": "QVfWhzzFSyTd"
      },
      "source": [
        "Next, let's determine how many items were bought per user. This can be solved in one line using an RDD method. After you've counted the total number of items bought per person, sort the users from most number of items bought to least number of items. Time to start a customer loyalty program!"
      ]
    },
    {
      "cell_type": "code",
      "metadata": {
        "colab": {
          "base_uri": "https://localhost:8080/"
        },
        "id": "K3rFxUCySyTd",
        "outputId": "1054246f-3bc2-4389-fa5a-2507d4d38656"
      },
      "source": [
        "total_items = sales_data.countByKey()\n",
        "sorted(total_items.items(), key=lambda x:x[1], reverse=True)"
      ],
      "execution_count": 48,
      "outputs": [
        {
          "output_type": "execute_result",
          "data": {
            "text/plain": [
              "[(26, 12),\n",
              " (10, 12),\n",
              " (44, 11),\n",
              " (32, 11),\n",
              " (35, 11),\n",
              " (16, 11),\n",
              " (4, 10),\n",
              " (37, 10),\n",
              " (30, 9),\n",
              " (33, 9),\n",
              " (21, 9),\n",
              " (43, 9),\n",
              " (48, 8),\n",
              " (1, 8),\n",
              " (23, 8),\n",
              " (50, 8),\n",
              " (11, 8),\n",
              " (12, 8),\n",
              " (42, 7),\n",
              " (22, 6),\n",
              " (28, 6),\n",
              " (27, 6),\n",
              " (6, 6),\n",
              " (38, 6),\n",
              " (20, 6),\n",
              " (9, 6),\n",
              " (45, 5),\n",
              " (49, 5),\n",
              " (17, 5),\n",
              " (34, 4),\n",
              " (47, 4),\n",
              " (7, 4),\n",
              " (24, 4),\n",
              " (25, 4),\n",
              " (46, 4),\n",
              " (29, 4),\n",
              " (18, 4),\n",
              " (39, 4),\n",
              " (5, 4),\n",
              " (8, 4),\n",
              " (19, 4),\n",
              " (41, 4),\n",
              " (36, 4),\n",
              " (31, 4),\n",
              " (15, 3),\n",
              " (13, 3),\n",
              " (2, 3),\n",
              " (40, 3),\n",
              " (14, 2),\n",
              " (3, 2)]"
            ]
          },
          "metadata": {
            "tags": []
          },
          "execution_count": 48
        }
      ]
    },
    {
      "cell_type": "markdown",
      "metadata": {
        "id": "dFeYmEysSyTd"
      },
      "source": [
        "### Additional Reading\n",
        "\n",
        "- [The original paper on RDDs](https://cs.stanford.edu/~matei/papers/2012/nsdi_spark.pdf)\n",
        "- [RDDs in Apache Spark](https://data-flair.training/blogs/create-rdds-in-apache-spark/)\n",
        "- [Programming with RDDs](https://runawayhorse001.github.io/LearningApacheSpark/rdd.html)\n",
        "- [RDD Transformations and Actions Summary](https://www.analyticsvidhya.com/blog/2016/10/using-pyspark-to-perform-transformations-and-actions-on-rdd/)"
      ]
    },
    {
      "cell_type": "markdown",
      "metadata": {
        "id": "rSYZyEn0SyTd"
      },
      "source": [
        "## Summary\n",
        "\n",
        "In this lab we went through a brief introduction to RDD creation from a Python collection, setting a number of logical partitions for an RDD and extracting lineage. We also used transformations and actions to perform calculations across RDDs on a distributed setup. In the next lab, you'll get the chance to apply these transformations on different books to calculate word counts and various statistics.\n"
      ]
    }
  ]
}